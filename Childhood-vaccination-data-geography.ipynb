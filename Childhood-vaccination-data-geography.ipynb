{
 "cells": [
  {
   "cell_type": "markdown",
   "id": "caeacd84-eceb-4f40-aa96-e738b33c760d",
   "metadata": {},
   "source": [
    "# Childhood Vaccination Data - Geography\n",
    "\n",
    "This data is from the [nychealth github](https://github.com/nychealth/immunization-data).\n",
    "\n",
    "This repository contains data on routine immunizations administered to New York City (NYC) children ages 0 to 18 years and reported to the [Citywide Immunization Registry](https://www.nyc.gov/site/doh/providers/reporting-and-services/citywide-immunization-registry-cir.page) (CIR). These data are available on the NYC Health Department’s [Childhood Vaccination Data Explorer](https://www.nyc.gov/site/doh/data/data-sets/childhood-vaccination-data.page)."
   ]
  },
  {
   "cell_type": "code",
   "execution_count": 1,
   "id": "5c23a49a-0bfd-4586-b1a3-0d329aabb05b",
   "metadata": {},
   "outputs": [],
   "source": [
    "import pandas as pd\n",
    "import numpy as np\n",
    "import warnings, os\n",
    "import re\n",
    "import matplotlib.pyplot as plt"
   ]
  },
  {
   "cell_type": "code",
   "execution_count": 2,
   "id": "1fddddc8-f131-4f01-9141-95758adb2dd3",
   "metadata": {},
   "outputs": [
    {
     "data": {
      "text/html": [
       "<div>\n",
       "<style scoped>\n",
       "    .dataframe tbody tr th:only-of-type {\n",
       "        vertical-align: middle;\n",
       "    }\n",
       "\n",
       "    .dataframe tbody tr th {\n",
       "        vertical-align: top;\n",
       "    }\n",
       "\n",
       "    .dataframe thead th {\n",
       "        text-align: right;\n",
       "    }\n",
       "</style>\n",
       "<table border=\"1\" class=\"dataframe\">\n",
       "  <thead>\n",
       "    <tr style=\"text-align: right;\">\n",
       "      <th></th>\n",
       "      <th>DATE_CREATED</th>\n",
       "      <th>AGE_GROUP</th>\n",
       "      <th>DOB_RANGE</th>\n",
       "      <th>VACCINE_GROUP</th>\n",
       "      <th>DOSES</th>\n",
       "      <th>YEAR_COVERAGE</th>\n",
       "      <th>QUARTER</th>\n",
       "      <th>BOROUGH</th>\n",
       "      <th>MODZCTA</th>\n",
       "      <th>LABEL</th>\n",
       "      <th>NEIGHBORHOOD_NAME</th>\n",
       "      <th>POP_DENOMINATOR_YEAR</th>\n",
       "      <th>POP_DENOMINATOR</th>\n",
       "      <th>COUNT_PEOPLE_VAC</th>\n",
       "      <th>PERC_VAC</th>\n",
       "    </tr>\n",
       "  </thead>\n",
       "  <tbody>\n",
       "    <tr>\n",
       "      <th>0</th>\n",
       "      <td>5/16/2025</td>\n",
       "      <td>24 - 35 months</td>\n",
       "      <td>01/01/2022 - 12/31/2022</td>\n",
       "      <td>4313314</td>\n",
       "      <td>4:3:1:3:3:1:4</td>\n",
       "      <td>2024</td>\n",
       "      <td>Q4</td>\n",
       "      <td>Manhattan</td>\n",
       "      <td>10001</td>\n",
       "      <td>10001, 10118</td>\n",
       "      <td>Chelsea/NoMad/West Chelsea</td>\n",
       "      <td>2024 Vintage Estimates for 2023</td>\n",
       "      <td>104.10</td>\n",
       "      <td>124.0</td>\n",
       "      <td>99.0</td>\n",
       "    </tr>\n",
       "    <tr>\n",
       "      <th>1</th>\n",
       "      <td>5/16/2025</td>\n",
       "      <td>24 - 35 months</td>\n",
       "      <td>01/01/2022 - 12/31/2022</td>\n",
       "      <td>4313314</td>\n",
       "      <td>4:3:1:3:3:1:4</td>\n",
       "      <td>2024</td>\n",
       "      <td>Q4</td>\n",
       "      <td>Manhattan</td>\n",
       "      <td>10002</td>\n",
       "      <td>10002</td>\n",
       "      <td>Chinatown/Lower East Side</td>\n",
       "      <td>2024 Vintage Estimates for 2023</td>\n",
       "      <td>479.54</td>\n",
       "      <td>307.0</td>\n",
       "      <td>64.0</td>\n",
       "    </tr>\n",
       "    <tr>\n",
       "      <th>2</th>\n",
       "      <td>5/16/2025</td>\n",
       "      <td>24 - 35 months</td>\n",
       "      <td>01/01/2022 - 12/31/2022</td>\n",
       "      <td>4313314</td>\n",
       "      <td>4:3:1:3:3:1:4</td>\n",
       "      <td>2024</td>\n",
       "      <td>Q4</td>\n",
       "      <td>Manhattan</td>\n",
       "      <td>10003</td>\n",
       "      <td>10003</td>\n",
       "      <td>East Village/Gramercy/Greenwich Village</td>\n",
       "      <td>2024 Vintage Estimates for 2023</td>\n",
       "      <td>214.48</td>\n",
       "      <td>155.0</td>\n",
       "      <td>72.0</td>\n",
       "    </tr>\n",
       "    <tr>\n",
       "      <th>3</th>\n",
       "      <td>5/16/2025</td>\n",
       "      <td>24 - 35 months</td>\n",
       "      <td>01/01/2022 - 12/31/2022</td>\n",
       "      <td>4313314</td>\n",
       "      <td>4:3:1:3:3:1:4</td>\n",
       "      <td>2024</td>\n",
       "      <td>Q4</td>\n",
       "      <td>Manhattan</td>\n",
       "      <td>10004</td>\n",
       "      <td>10004</td>\n",
       "      <td>Financial District</td>\n",
       "      <td>2024 Vintage Estimates for 2023</td>\n",
       "      <td>36.15</td>\n",
       "      <td>41.0</td>\n",
       "      <td>99.0</td>\n",
       "    </tr>\n",
       "    <tr>\n",
       "      <th>4</th>\n",
       "      <td>5/16/2025</td>\n",
       "      <td>24 - 35 months</td>\n",
       "      <td>01/01/2022 - 12/31/2022</td>\n",
       "      <td>4313314</td>\n",
       "      <td>4:3:1:3:3:1:4</td>\n",
       "      <td>2024</td>\n",
       "      <td>Q4</td>\n",
       "      <td>Manhattan</td>\n",
       "      <td>10005</td>\n",
       "      <td>10005</td>\n",
       "      <td>Financial District</td>\n",
       "      <td>2024 Vintage Estimates for 2023</td>\n",
       "      <td>47.51</td>\n",
       "      <td>54.0</td>\n",
       "      <td>99.0</td>\n",
       "    </tr>\n",
       "  </tbody>\n",
       "</table>\n",
       "</div>"
      ],
      "text/plain": [
       "  DATE_CREATED       AGE_GROUP                DOB_RANGE VACCINE_GROUP  \\\n",
       "0    5/16/2025  24 - 35 months  01/01/2022 - 12/31/2022       4313314   \n",
       "1    5/16/2025  24 - 35 months  01/01/2022 - 12/31/2022       4313314   \n",
       "2    5/16/2025  24 - 35 months  01/01/2022 - 12/31/2022       4313314   \n",
       "3    5/16/2025  24 - 35 months  01/01/2022 - 12/31/2022       4313314   \n",
       "4    5/16/2025  24 - 35 months  01/01/2022 - 12/31/2022       4313314   \n",
       "\n",
       "           DOSES YEAR_COVERAGE QUARTER    BOROUGH  MODZCTA         LABEL  \\\n",
       "0  4:3:1:3:3:1:4          2024      Q4  Manhattan    10001  10001, 10118   \n",
       "1  4:3:1:3:3:1:4          2024      Q4  Manhattan    10002         10002   \n",
       "2  4:3:1:3:3:1:4          2024      Q4  Manhattan    10003         10003   \n",
       "3  4:3:1:3:3:1:4          2024      Q4  Manhattan    10004         10004   \n",
       "4  4:3:1:3:3:1:4          2024      Q4  Manhattan    10005         10005   \n",
       "\n",
       "                         NEIGHBORHOOD_NAME             POP_DENOMINATOR_YEAR  \\\n",
       "0               Chelsea/NoMad/West Chelsea  2024 Vintage Estimates for 2023   \n",
       "1                Chinatown/Lower East Side  2024 Vintage Estimates for 2023   \n",
       "2  East Village/Gramercy/Greenwich Village  2024 Vintage Estimates for 2023   \n",
       "3                       Financial District  2024 Vintage Estimates for 2023   \n",
       "4                       Financial District  2024 Vintage Estimates for 2023   \n",
       "\n",
       "   POP_DENOMINATOR  COUNT_PEOPLE_VAC  PERC_VAC  \n",
       "0           104.10             124.0      99.0  \n",
       "1           479.54             307.0      64.0  \n",
       "2           214.48             155.0      72.0  \n",
       "3            36.15              41.0      99.0  \n",
       "4            47.51              54.0      99.0  "
      ]
     },
     "execution_count": 2,
     "metadata": {},
     "output_type": "execute_result"
    }
   ],
   "source": [
    "df = pd.read_csv('Main_Routine_Vaccine_Geo.csv')\n",
    "\n",
    "df.head()"
   ]
  },
  {
   "cell_type": "code",
   "execution_count": 3,
   "id": "e4c5e857-6e60-4c76-8bf6-6200dad21ac0",
   "metadata": {},
   "outputs": [
    {
     "data": {
      "text/plain": [
       "(36816, 15)"
      ]
     },
     "execution_count": 3,
     "metadata": {},
     "output_type": "execute_result"
    }
   ],
   "source": [
    "df.shape"
   ]
  },
  {
   "cell_type": "code",
   "execution_count": 4,
   "id": "ed23aff9-69e8-4be7-b136-3d605191f91c",
   "metadata": {},
   "outputs": [
    {
     "data": {
      "text/plain": [
       "DATE_CREATED             object\n",
       "AGE_GROUP                object\n",
       "DOB_RANGE                object\n",
       "VACCINE_GROUP            object\n",
       "DOSES                    object\n",
       "YEAR_COVERAGE            object\n",
       "QUARTER                  object\n",
       "BOROUGH                  object\n",
       "MODZCTA                   int64\n",
       "LABEL                    object\n",
       "NEIGHBORHOOD_NAME        object\n",
       "POP_DENOMINATOR_YEAR     object\n",
       "POP_DENOMINATOR         float64\n",
       "COUNT_PEOPLE_VAC        float64\n",
       "PERC_VAC                float64\n",
       "dtype: object"
      ]
     },
     "execution_count": 4,
     "metadata": {},
     "output_type": "execute_result"
    }
   ],
   "source": [
    "df.dtypes"
   ]
  },
  {
   "cell_type": "markdown",
   "id": "1c3e7cb3-c8f4-43c9-a7ef-e366bb6d8582",
   "metadata": {},
   "source": [
    "## Questions\n",
    "- What NYC borough has the highest average percent of children vaccinated? The lowest?"
   ]
  },
  {
   "cell_type": "code",
   "execution_count": 5,
   "id": "1ecd73ca-84e5-4aa1-8efd-95c88d585b9f",
   "metadata": {},
   "outputs": [
    {
     "data": {
      "text/html": [
       "<div>\n",
       "<style scoped>\n",
       "    .dataframe tbody tr th:only-of-type {\n",
       "        vertical-align: middle;\n",
       "    }\n",
       "\n",
       "    .dataframe tbody tr th {\n",
       "        vertical-align: top;\n",
       "    }\n",
       "\n",
       "    .dataframe thead th {\n",
       "        text-align: right;\n",
       "    }\n",
       "</style>\n",
       "<table border=\"1\" class=\"dataframe\">\n",
       "  <thead>\n",
       "    <tr style=\"text-align: right;\">\n",
       "      <th></th>\n",
       "      <th>PERC_VAC</th>\n",
       "    </tr>\n",
       "    <tr>\n",
       "      <th>BOROUGH</th>\n",
       "      <th></th>\n",
       "    </tr>\n",
       "  </thead>\n",
       "  <tbody>\n",
       "    <tr>\n",
       "      <th>Manhattan</th>\n",
       "      <td>77.060553</td>\n",
       "    </tr>\n",
       "    <tr>\n",
       "      <th>Bronx</th>\n",
       "      <td>72.018846</td>\n",
       "    </tr>\n",
       "    <tr>\n",
       "      <th>Queens</th>\n",
       "      <td>67.481182</td>\n",
       "    </tr>\n",
       "    <tr>\n",
       "      <th>Brooklyn</th>\n",
       "      <td>62.254418</td>\n",
       "    </tr>\n",
       "    <tr>\n",
       "      <th>Staten Island</th>\n",
       "      <td>53.370489</td>\n",
       "    </tr>\n",
       "  </tbody>\n",
       "</table>\n",
       "</div>"
      ],
      "text/plain": [
       "                PERC_VAC\n",
       "BOROUGH                 \n",
       "Manhattan      77.060553\n",
       "Bronx          72.018846\n",
       "Queens         67.481182\n",
       "Brooklyn       62.254418\n",
       "Staten Island  53.370489"
      ]
     },
     "execution_count": 5,
     "metadata": {},
     "output_type": "execute_result"
    }
   ],
   "source": [
    "df.groupby('BOROUGH')['PERC_VAC'].mean().sort_values(ascending=False).to_frame()"
   ]
  },
  {
   "cell_type": "code",
   "execution_count": 6,
   "id": "0ad02e53-d3ef-4d48-809f-fae6a64a1ab5",
   "metadata": {},
   "outputs": [
    {
     "data": {
      "text/plain": [
       "<Axes: ylabel='BOROUGH'>"
      ]
     },
     "execution_count": 6,
     "metadata": {},
     "output_type": "execute_result"
    },
    {
     "data": {
      "image/png": "[encoded data removed]",
      "text/plain": [
       "<Figure size 640x480 with 1 Axes>"
      ]
     },
     "metadata": {},
     "output_type": "display_data"
    }
   ],
   "source": [
    "df.groupby('BOROUGH')['PERC_VAC'].mean().sort_values(ascending=True).plot.barh()"
   ]
  },
  {
   "cell_type": "code",
   "execution_count": 13,
   "id": "938a55c6-e307-4c84-a229-0b7e09f5213b",
   "metadata": {},
   "outputs": [
    {
     "data": {
      "text/html": [
       "<div>\n",
       "<style scoped>\n",
       "    .dataframe tbody tr th:only-of-type {\n",
       "        vertical-align: middle;\n",
       "    }\n",
       "\n",
       "    .dataframe tbody tr th {\n",
       "        vertical-align: top;\n",
       "    }\n",
       "\n",
       "    .dataframe thead th {\n",
       "        text-align: right;\n",
       "    }\n",
       "</style>\n",
       "<table border=\"1\" class=\"dataframe\">\n",
       "  <thead>\n",
       "    <tr style=\"text-align: right;\">\n",
       "      <th></th>\n",
       "      <th>Percentage vaccinated</th>\n",
       "    </tr>\n",
       "    <tr>\n",
       "      <th>MODZCTA</th>\n",
       "      <th></th>\n",
       "    </tr>\n",
       "  </thead>\n",
       "  <tbody>\n",
       "    <tr>\n",
       "      <th>10001</th>\n",
       "      <td>83.451923</td>\n",
       "    </tr>\n",
       "    <tr>\n",
       "      <th>10002</th>\n",
       "      <td>80.100962</td>\n",
       "    </tr>\n",
       "    <tr>\n",
       "      <th>10003</th>\n",
       "      <td>76.889423</td>\n",
       "    </tr>\n",
       "    <tr>\n",
       "      <th>10004</th>\n",
       "      <td>93.343284</td>\n",
       "    </tr>\n",
       "    <tr>\n",
       "      <th>10005</th>\n",
       "      <td>94.065327</td>\n",
       "    </tr>\n",
       "    <tr>\n",
       "      <th>...</th>\n",
       "      <td>...</td>\n",
       "    </tr>\n",
       "    <tr>\n",
       "      <th>11691</th>\n",
       "      <td>52.836538</td>\n",
       "    </tr>\n",
       "    <tr>\n",
       "      <th>11692</th>\n",
       "      <td>47.879808</td>\n",
       "    </tr>\n",
       "    <tr>\n",
       "      <th>11693</th>\n",
       "      <td>44.504808</td>\n",
       "    </tr>\n",
       "    <tr>\n",
       "      <th>11694</th>\n",
       "      <td>46.000000</td>\n",
       "    </tr>\n",
       "    <tr>\n",
       "      <th>11697</th>\n",
       "      <td>55.212121</td>\n",
       "    </tr>\n",
       "  </tbody>\n",
       "</table>\n",
       "<p>177 rows × 1 columns</p>\n",
       "</div>"
      ],
      "text/plain": [
       "         Percentage vaccinated\n",
       "MODZCTA                       \n",
       "10001                83.451923\n",
       "10002                80.100962\n",
       "10003                76.889423\n",
       "10004                93.343284\n",
       "10005                94.065327\n",
       "...                        ...\n",
       "11691                52.836538\n",
       "11692                47.879808\n",
       "11693                44.504808\n",
       "11694                46.000000\n",
       "11697                55.212121\n",
       "\n",
       "[177 rows x 1 columns]"
      ]
     },
     "execution_count": 13,
     "metadata": {},
     "output_type": "execute_result"
    }
   ],
   "source": [
    "modzcta = df.groupby('MODZCTA')['PERC_VAC'].mean().to_frame()\n",
    "\n",
    "modzcta.rename(columns={'PERC_VAC': 'Percentage vaccinated'}, inplace=True)\n",
    "\n",
    "modzcta"
   ]
  },
  {
   "cell_type": "code",
   "execution_count": 15,
   "id": "dd16fef0-4d81-47c1-a5f8-3352343369a8",
   "metadata": {},
   "outputs": [],
   "source": [
    "modzcta.to_csv('modzcta-vaccinated.csv')"
   ]
  },
  {
   "cell_type": "code",
   "execution_count": null,
   "id": "11f524cc-b117-4d58-96de-7f406c61b426",
   "metadata": {},
   "outputs": [],
   "source": []
  }
 ],
 "metadata": {
  "kernelspec": {
   "display_name": "Python 3 (ipykernel)",
   "language": "python",
   "name": "python3"
  },
  "language_info": {
   "codemirror_mode": {
    "name": "ipython",
    "version": 3
   },
   "file_extension": ".py",
   "mimetype": "text/x-python",
   "name": "python",
   "nbconvert_exporter": "python",
   "pygments_lexer": "ipython3",
   "version": "3.12.0"
  }
 },
 "nbformat": 4,
 "nbformat_minor": 5
}
