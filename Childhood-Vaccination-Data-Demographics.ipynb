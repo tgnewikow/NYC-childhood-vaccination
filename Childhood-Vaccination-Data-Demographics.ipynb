{
 "cells": [
  {
   "cell_type": "markdown",
   "id": "708150c3-0853-4c4d-a29d-841e3888c33e",
   "metadata": {},
   "source": [
    "# Childhood Vaccination Data - Demographics\n",
    "\n",
    "This data is from the [nychealth github](https://github.com/nychealth/immunization-data).\n",
    "\n",
    "This repository contains data on routine immunizations administered to New York City (NYC) children ages 0 to 18 years and reported to the [Citywide Immunization Registry](https://www.nyc.gov/site/doh/providers/reporting-and-services/citywide-immunization-registry-cir.page) (CIR). These data are available on the NYC Health Department’s [Childhood Vaccination Data Explorer](https://www.nyc.gov/site/doh/data/data-sets/childhood-vaccination-data.page)."
   ]
  },
  {
   "cell_type": "code",
   "execution_count": 1,
   "id": "f8269353-69eb-4424-9da0-c1d7395eacb4",
   "metadata": {},
   "outputs": [],
   "source": [
    "import pandas as pd\n",
    "import numpy as np\n",
    "import warnings, os\n",
    "import re\n",
    "import matplotlib.pyplot as plt"
   ]
  },
  {
   "cell_type": "code",
   "execution_count": 2,
   "id": "4139b8e8-939d-49c7-b103-6714e39df672",
   "metadata": {},
   "outputs": [
    {
     "data": {
      "text/html": [
       "<div>\n",
       "<style scoped>\n",
       "    .dataframe tbody tr th:only-of-type {\n",
       "        vertical-align: middle;\n",
       "    }\n",
       "\n",
       "    .dataframe tbody tr th {\n",
       "        vertical-align: top;\n",
       "    }\n",
       "\n",
       "    .dataframe thead th {\n",
       "        text-align: right;\n",
       "    }\n",
       "</style>\n",
       "<table border=\"1\" class=\"dataframe\">\n",
       "  <thead>\n",
       "    <tr style=\"text-align: right;\">\n",
       "      <th></th>\n",
       "      <th>DATE_CREATED</th>\n",
       "      <th>AGE_GROUP</th>\n",
       "      <th>DOB_RANGE</th>\n",
       "      <th>VACCINE_GROUP</th>\n",
       "      <th>DOSES</th>\n",
       "      <th>YEAR_COVERAGE</th>\n",
       "      <th>QUARTER</th>\n",
       "      <th>RACE_ETHNICITY</th>\n",
       "      <th>POP_DENOMINATOR_YEAR</th>\n",
       "      <th>POP_DENOMINATOR</th>\n",
       "      <th>COUNT_PEOPLE_VAC</th>\n",
       "      <th>PERC_VAC</th>\n",
       "    </tr>\n",
       "  </thead>\n",
       "  <tbody>\n",
       "    <tr>\n",
       "      <th>0</th>\n",
       "      <td>5/16/2025</td>\n",
       "      <td>24 - 35 months</td>\n",
       "      <td>01/01/2022 - 12/31/2022</td>\n",
       "      <td>4313314</td>\n",
       "      <td>4:3:1:3:3:1:4</td>\n",
       "      <td>2024</td>\n",
       "      <td>Q4</td>\n",
       "      <td>American Indian, non-Hispanic</td>\n",
       "      <td>2024 Vintage Estimates for 2023</td>\n",
       "      <td>192.85</td>\n",
       "      <td>122.0</td>\n",
       "      <td>63.0</td>\n",
       "    </tr>\n",
       "    <tr>\n",
       "      <th>1</th>\n",
       "      <td>5/16/2025</td>\n",
       "      <td>24 - 35 months</td>\n",
       "      <td>01/01/2022 - 12/31/2022</td>\n",
       "      <td>4313314</td>\n",
       "      <td>4:3:1:3:3:1:4</td>\n",
       "      <td>2024</td>\n",
       "      <td>Q4</td>\n",
       "      <td>Asian, non-Hispanic</td>\n",
       "      <td>2024 Vintage Estimates for 2023</td>\n",
       "      <td>11158.76</td>\n",
       "      <td>10223.0</td>\n",
       "      <td>92.0</td>\n",
       "    </tr>\n",
       "    <tr>\n",
       "      <th>2</th>\n",
       "      <td>5/16/2025</td>\n",
       "      <td>24 - 35 months</td>\n",
       "      <td>01/01/2022 - 12/31/2022</td>\n",
       "      <td>4313314</td>\n",
       "      <td>4:3:1:3:3:1:4</td>\n",
       "      <td>2024</td>\n",
       "      <td>Q4</td>\n",
       "      <td>Black, non-Hispanic</td>\n",
       "      <td>2024 Vintage Estimates for 2023</td>\n",
       "      <td>17279.96</td>\n",
       "      <td>10219.0</td>\n",
       "      <td>59.0</td>\n",
       "    </tr>\n",
       "    <tr>\n",
       "      <th>3</th>\n",
       "      <td>5/16/2025</td>\n",
       "      <td>24 - 35 months</td>\n",
       "      <td>01/01/2022 - 12/31/2022</td>\n",
       "      <td>4313314</td>\n",
       "      <td>4:3:1:3:3:1:4</td>\n",
       "      <td>2024</td>\n",
       "      <td>Q4</td>\n",
       "      <td>Hispanic/Latino</td>\n",
       "      <td>2024 Vintage Estimates for 2023</td>\n",
       "      <td>28409.10</td>\n",
       "      <td>20366.0</td>\n",
       "      <td>72.0</td>\n",
       "    </tr>\n",
       "    <tr>\n",
       "      <th>4</th>\n",
       "      <td>5/16/2025</td>\n",
       "      <td>24 - 35 months</td>\n",
       "      <td>01/01/2022 - 12/31/2022</td>\n",
       "      <td>4313314</td>\n",
       "      <td>4:3:1:3:3:1:4</td>\n",
       "      <td>2024</td>\n",
       "      <td>Q4</td>\n",
       "      <td>Native Hawaiian/PI, non-Hispanic</td>\n",
       "      <td>2024 Vintage Estimates for 2023</td>\n",
       "      <td>42.41</td>\n",
       "      <td>39.0</td>\n",
       "      <td>92.0</td>\n",
       "    </tr>\n",
       "  </tbody>\n",
       "</table>\n",
       "</div>"
      ],
      "text/plain": [
       "  DATE_CREATED       AGE_GROUP                DOB_RANGE VACCINE_GROUP  \\\n",
       "0    5/16/2025  24 - 35 months  01/01/2022 - 12/31/2022       4313314   \n",
       "1    5/16/2025  24 - 35 months  01/01/2022 - 12/31/2022       4313314   \n",
       "2    5/16/2025  24 - 35 months  01/01/2022 - 12/31/2022       4313314   \n",
       "3    5/16/2025  24 - 35 months  01/01/2022 - 12/31/2022       4313314   \n",
       "4    5/16/2025  24 - 35 months  01/01/2022 - 12/31/2022       4313314   \n",
       "\n",
       "           DOSES YEAR_COVERAGE QUARTER                    RACE_ETHNICITY  \\\n",
       "0  4:3:1:3:3:1:4          2024      Q4     American Indian, non-Hispanic   \n",
       "1  4:3:1:3:3:1:4          2024      Q4               Asian, non-Hispanic   \n",
       "2  4:3:1:3:3:1:4          2024      Q4               Black, non-Hispanic   \n",
       "3  4:3:1:3:3:1:4          2024      Q4                   Hispanic/Latino   \n",
       "4  4:3:1:3:3:1:4          2024      Q4  Native Hawaiian/PI, non-Hispanic   \n",
       "\n",
       "              POP_DENOMINATOR_YEAR  POP_DENOMINATOR  COUNT_PEOPLE_VAC  \\\n",
       "0  2024 Vintage Estimates for 2023           192.85             122.0   \n",
       "1  2024 Vintage Estimates for 2023         11158.76           10223.0   \n",
       "2  2024 Vintage Estimates for 2023         17279.96           10219.0   \n",
       "3  2024 Vintage Estimates for 2023         28409.10           20366.0   \n",
       "4  2024 Vintage Estimates for 2023            42.41              39.0   \n",
       "\n",
       "   PERC_VAC  \n",
       "0      63.0  \n",
       "1      92.0  \n",
       "2      59.0  \n",
       "3      72.0  \n",
       "4      92.0  "
      ]
     },
     "execution_count": 2,
     "metadata": {},
     "output_type": "execute_result"
    }
   ],
   "source": [
    "df = pd.read_csv('Main_Routine_Vaccine_Demo.csv', na_values=['NaN'])\n",
    "\n",
    "df.head()"
   ]
  },
  {
   "cell_type": "code",
   "execution_count": 3,
   "id": "9f7bb9ac-63dd-4b11-bf95-164ba4efdb5a",
   "metadata": {},
   "outputs": [
    {
     "data": {
      "text/plain": [
       "(1872, 12)"
      ]
     },
     "execution_count": 3,
     "metadata": {},
     "output_type": "execute_result"
    }
   ],
   "source": [
    "df.shape"
   ]
  },
  {
   "cell_type": "code",
   "execution_count": 4,
   "id": "a85a2127-b61b-4d9b-9d41-7e52df43b068",
   "metadata": {},
   "outputs": [
    {
     "data": {
      "text/plain": [
       "DATE_CREATED             object\n",
       "AGE_GROUP                object\n",
       "DOB_RANGE                object\n",
       "VACCINE_GROUP            object\n",
       "DOSES                    object\n",
       "YEAR_COVERAGE            object\n",
       "QUARTER                  object\n",
       "RACE_ETHNICITY           object\n",
       "POP_DENOMINATOR_YEAR     object\n",
       "POP_DENOMINATOR         float64\n",
       "COUNT_PEOPLE_VAC        float64\n",
       "PERC_VAC                float64\n",
       "dtype: object"
      ]
     },
     "execution_count": 4,
     "metadata": {},
     "output_type": "execute_result"
    }
   ],
   "source": [
    "df.dtypes"
   ]
  },
  {
   "cell_type": "code",
   "execution_count": 5,
   "id": "56cae241-b00b-48df-b09c-e3d86c9e1b24",
   "metadata": {},
   "outputs": [],
   "source": [
    "# drop NaN values\n",
    "df = df.dropna()"
   ]
  },
  {
   "cell_type": "markdown",
   "id": "e3d7d09c-0324-4a65-8ca4-0310d2c7a8a9",
   "metadata": {},
   "source": [
    "## Questions\n",
    "- What race/ethnicity has the highest average percent of children vaccinated?\n",
    "- Does the average percent of children vaccinated differ among age groups?\n",
    "- What vaccine has the highest average percent of children vaccined? The lowest?"
   ]
  },
  {
   "cell_type": "code",
   "execution_count": 6,
   "id": "41a97af4-8960-4ed0-8206-9d6bd9d84f67",
   "metadata": {},
   "outputs": [
    {
     "data": {
      "text/html": [
       "<div>\n",
       "<style scoped>\n",
       "    .dataframe tbody tr th:only-of-type {\n",
       "        vertical-align: middle;\n",
       "    }\n",
       "\n",
       "    .dataframe tbody tr th {\n",
       "        vertical-align: top;\n",
       "    }\n",
       "\n",
       "    .dataframe thead th {\n",
       "        text-align: right;\n",
       "    }\n",
       "</style>\n",
       "<table border=\"1\" class=\"dataframe\">\n",
       "  <thead>\n",
       "    <tr style=\"text-align: right;\">\n",
       "      <th></th>\n",
       "      <th>PERC_VAC</th>\n",
       "    </tr>\n",
       "    <tr>\n",
       "      <th>RACE_ETHNICITY</th>\n",
       "      <th></th>\n",
       "    </tr>\n",
       "  </thead>\n",
       "  <tbody>\n",
       "    <tr>\n",
       "      <th>Asian, non-Hispanic</th>\n",
       "      <td>84.903846</td>\n",
       "    </tr>\n",
       "    <tr>\n",
       "      <th>Native Hawaiian/PI, non-Hispanic</th>\n",
       "      <td>79.201923</td>\n",
       "    </tr>\n",
       "    <tr>\n",
       "      <th>Hispanic/Latino</th>\n",
       "      <td>68.081731</td>\n",
       "    </tr>\n",
       "    <tr>\n",
       "      <th>Black, non-Hispanic</th>\n",
       "      <td>61.725962</td>\n",
       "    </tr>\n",
       "    <tr>\n",
       "      <th>White, non-Hispanic</th>\n",
       "      <td>53.475962</td>\n",
       "    </tr>\n",
       "    <tr>\n",
       "      <th>American Indian, non-Hispanic</th>\n",
       "      <td>51.149038</td>\n",
       "    </tr>\n",
       "    <tr>\n",
       "      <th>Two or more races, non-Hispanic</th>\n",
       "      <td>12.673171</td>\n",
       "    </tr>\n",
       "  </tbody>\n",
       "</table>\n",
       "</div>"
      ],
      "text/plain": [
       "                                   PERC_VAC\n",
       "RACE_ETHNICITY                             \n",
       "Asian, non-Hispanic               84.903846\n",
       "Native Hawaiian/PI, non-Hispanic  79.201923\n",
       "Hispanic/Latino                   68.081731\n",
       "Black, non-Hispanic               61.725962\n",
       "White, non-Hispanic               53.475962\n",
       "American Indian, non-Hispanic     51.149038\n",
       "Two or more races, non-Hispanic   12.673171"
      ]
     },
     "execution_count": 6,
     "metadata": {},
     "output_type": "execute_result"
    }
   ],
   "source": [
    "df.groupby('RACE_ETHNICITY')['PERC_VAC'].mean().sort_values(ascending=False).to_frame()"
   ]
  },
  {
   "cell_type": "code",
   "execution_count": 7,
   "id": "fcca2bc9-6288-4e0b-8207-e7e193e7e29e",
   "metadata": {},
   "outputs": [
    {
     "data": {
      "text/plain": [
       "<Axes: ylabel='RACE_ETHNICITY'>"
      ]
     },
     "execution_count": 7,
     "metadata": {},
     "output_type": "execute_result"
    },
    {
     "data": {
      "image/png": "[encoded data removed]",
      "text/plain": [
       "<Figure size 640x480 with 1 Axes>"
      ]
     },
     "metadata": {},
     "output_type": "display_data"
    }
   ],
   "source": [
    "df.groupby('RACE_ETHNICITY')['PERC_VAC'].mean().sort_values(ascending=True).plot.barh()"
   ]
  },
  {
   "cell_type": "code",
   "execution_count": 17,
   "id": "525e0236-0d7f-4015-be2e-1ed82c60c09a",
   "metadata": {},
   "outputs": [],
   "source": [
    "race_perc = df.groupby('RACE_ETHNICITY')['PERC_VAC'].mean().to_frame()"
   ]
  },
  {
   "cell_type": "code",
   "execution_count": 18,
   "id": "32a0793d-37d1-4d42-988e-350da2847920",
   "metadata": {},
   "outputs": [
    {
     "data": {
      "text/html": [
       "<div>\n",
       "<style scoped>\n",
       "    .dataframe tbody tr th:only-of-type {\n",
       "        vertical-align: middle;\n",
       "    }\n",
       "\n",
       "    .dataframe tbody tr th {\n",
       "        vertical-align: top;\n",
       "    }\n",
       "\n",
       "    .dataframe thead th {\n",
       "        text-align: right;\n",
       "    }\n",
       "</style>\n",
       "<table border=\"1\" class=\"dataframe\">\n",
       "  <thead>\n",
       "    <tr style=\"text-align: right;\">\n",
       "      <th></th>\n",
       "      <th>Percentage vaccinated</th>\n",
       "    </tr>\n",
       "    <tr>\n",
       "      <th>RACE_ETHNICITY</th>\n",
       "      <th></th>\n",
       "    </tr>\n",
       "  </thead>\n",
       "  <tbody>\n",
       "    <tr>\n",
       "      <th>American Indian, non-Hispanic</th>\n",
       "      <td>51.149038</td>\n",
       "    </tr>\n",
       "    <tr>\n",
       "      <th>Asian, non-Hispanic</th>\n",
       "      <td>84.903846</td>\n",
       "    </tr>\n",
       "    <tr>\n",
       "      <th>Black, non-Hispanic</th>\n",
       "      <td>61.725962</td>\n",
       "    </tr>\n",
       "    <tr>\n",
       "      <th>Hispanic/Latino</th>\n",
       "      <td>68.081731</td>\n",
       "    </tr>\n",
       "    <tr>\n",
       "      <th>Native Hawaiian/PI, non-Hispanic</th>\n",
       "      <td>79.201923</td>\n",
       "    </tr>\n",
       "    <tr>\n",
       "      <th>Two or more races, non-Hispanic</th>\n",
       "      <td>12.673171</td>\n",
       "    </tr>\n",
       "    <tr>\n",
       "      <th>White, non-Hispanic</th>\n",
       "      <td>53.475962</td>\n",
       "    </tr>\n",
       "  </tbody>\n",
       "</table>\n",
       "</div>"
      ],
      "text/plain": [
       "                                  Percentage vaccinated\n",
       "RACE_ETHNICITY                                         \n",
       "American Indian, non-Hispanic                 51.149038\n",
       "Asian, non-Hispanic                           84.903846\n",
       "Black, non-Hispanic                           61.725962\n",
       "Hispanic/Latino                               68.081731\n",
       "Native Hawaiian/PI, non-Hispanic              79.201923\n",
       "Two or more races, non-Hispanic               12.673171\n",
       "White, non-Hispanic                           53.475962"
      ]
     },
     "execution_count": 18,
     "metadata": {},
     "output_type": "execute_result"
    }
   ],
   "source": [
    "race_perc = df.groupby('RACE_ETHNICITY')['PERC_VAC'].mean().to_frame()\n",
    "\n",
    "race_perc.rename(columns={'PERC_VAC': 'Percentage vaccinated'}, inplace=True)\n",
    "\n",
    "race_perc"
   ]
  },
  {
   "cell_type": "code",
   "execution_count": 19,
   "id": "7f0209bb-8b71-47ad-bd92-1e42ad61b67d",
   "metadata": {},
   "outputs": [],
   "source": [
    "race_perc.to_csv('race-vaccinated.csv')"
   ]
  },
  {
   "cell_type": "code",
   "execution_count": 8,
   "id": "2d172822-4c8d-46ad-adcc-c05173f24592",
   "metadata": {},
   "outputs": [
    {
     "data": {
      "text/html": [
       "<div>\n",
       "<style scoped>\n",
       "    .dataframe tbody tr th:only-of-type {\n",
       "        vertical-align: middle;\n",
       "    }\n",
       "\n",
       "    .dataframe tbody tr th {\n",
       "        vertical-align: top;\n",
       "    }\n",
       "\n",
       "    .dataframe thead th {\n",
       "        text-align: right;\n",
       "    }\n",
       "</style>\n",
       "<table border=\"1\" class=\"dataframe\">\n",
       "  <thead>\n",
       "    <tr style=\"text-align: right;\">\n",
       "      <th></th>\n",
       "      <th>PERC_VAC</th>\n",
       "    </tr>\n",
       "    <tr>\n",
       "      <th>RACE_ETHNICITY</th>\n",
       "      <th></th>\n",
       "    </tr>\n",
       "  </thead>\n",
       "  <tbody>\n",
       "    <tr>\n",
       "      <th>Native Hawaiian/PI, non-Hispanic</th>\n",
       "      <td>95.0</td>\n",
       "    </tr>\n",
       "    <tr>\n",
       "      <th>Asian, non-Hispanic</th>\n",
       "      <td>92.0</td>\n",
       "    </tr>\n",
       "    <tr>\n",
       "      <th>Hispanic/Latino</th>\n",
       "      <td>71.0</td>\n",
       "    </tr>\n",
       "    <tr>\n",
       "      <th>Black, non-Hispanic</th>\n",
       "      <td>67.0</td>\n",
       "    </tr>\n",
       "    <tr>\n",
       "      <th>White, non-Hispanic</th>\n",
       "      <td>57.0</td>\n",
       "    </tr>\n",
       "    <tr>\n",
       "      <th>American Indian, non-Hispanic</th>\n",
       "      <td>47.0</td>\n",
       "    </tr>\n",
       "    <tr>\n",
       "      <th>Two or more races, non-Hispanic</th>\n",
       "      <td>13.0</td>\n",
       "    </tr>\n",
       "  </tbody>\n",
       "</table>\n",
       "</div>"
      ],
      "text/plain": [
       "                                  PERC_VAC\n",
       "RACE_ETHNICITY                            \n",
       "Native Hawaiian/PI, non-Hispanic      95.0\n",
       "Asian, non-Hispanic                   92.0\n",
       "Hispanic/Latino                       71.0\n",
       "Black, non-Hispanic                   67.0\n",
       "White, non-Hispanic                   57.0\n",
       "American Indian, non-Hispanic         47.0\n",
       "Two or more races, non-Hispanic       13.0"
      ]
     },
     "execution_count": 8,
     "metadata": {},
     "output_type": "execute_result"
    }
   ],
   "source": [
    "df.groupby('RACE_ETHNICITY')['PERC_VAC'].median().sort_values(ascending=False).to_frame()"
   ]
  },
  {
   "cell_type": "code",
   "execution_count": 9,
   "id": "b0a46c0b-b923-43cd-82d6-8353bb8778cb",
   "metadata": {},
   "outputs": [
    {
     "data": {
      "text/html": [
       "<div>\n",
       "<style scoped>\n",
       "    .dataframe tbody tr th:only-of-type {\n",
       "        vertical-align: middle;\n",
       "    }\n",
       "\n",
       "    .dataframe tbody tr th {\n",
       "        vertical-align: top;\n",
       "    }\n",
       "\n",
       "    .dataframe thead th {\n",
       "        text-align: right;\n",
       "    }\n",
       "</style>\n",
       "<table border=\"1\" class=\"dataframe\">\n",
       "  <thead>\n",
       "    <tr style=\"text-align: right;\">\n",
       "      <th></th>\n",
       "      <th>PERC_VAC</th>\n",
       "    </tr>\n",
       "    <tr>\n",
       "      <th>AGE_GROUP</th>\n",
       "      <th></th>\n",
       "    </tr>\n",
       "  </thead>\n",
       "  <tbody>\n",
       "    <tr>\n",
       "      <th>24 - 35 months</th>\n",
       "      <td>65.251116</td>\n",
       "    </tr>\n",
       "    <tr>\n",
       "      <th>13 - 17 years</th>\n",
       "      <td>53.508929</td>\n",
       "    </tr>\n",
       "    <tr>\n",
       "      <th>13 years</th>\n",
       "      <td>49.623853</td>\n",
       "    </tr>\n",
       "    <tr>\n",
       "      <th>6 months - 4 years</th>\n",
       "      <td>46.482143</td>\n",
       "    </tr>\n",
       "    <tr>\n",
       "      <th>5 - 12 years</th>\n",
       "      <td>39.535714</td>\n",
       "    </tr>\n",
       "  </tbody>\n",
       "</table>\n",
       "</div>"
      ],
      "text/plain": [
       "                     PERC_VAC\n",
       "AGE_GROUP                    \n",
       "24 - 35 months      65.251116\n",
       "13 - 17 years       53.508929\n",
       "13 years            49.623853\n",
       "6 months - 4 years  46.482143\n",
       "5 - 12 years        39.535714"
      ]
     },
     "execution_count": 9,
     "metadata": {},
     "output_type": "execute_result"
    }
   ],
   "source": [
    "df.groupby('AGE_GROUP')['PERC_VAC'].mean().sort_values(ascending=False).to_frame()"
   ]
  },
  {
   "cell_type": "code",
   "execution_count": 10,
   "id": "16277c61-3a8d-4c85-adab-7bf6b2fa2ab3",
   "metadata": {},
   "outputs": [
    {
     "data": {
      "text/plain": [
       "<Axes: ylabel='AGE_GROUP'>"
      ]
     },
     "execution_count": 10,
     "metadata": {},
     "output_type": "execute_result"
    },
    {
     "data": {
      "image/png": "[encoded data removed]",
      "text/plain": [
       "<Figure size 640x480 with 1 Axes>"
      ]
     },
     "metadata": {},
     "output_type": "display_data"
    }
   ],
   "source": [
    "df.groupby('AGE_GROUP')['PERC_VAC'].mean().sort_values(ascending=True).plot.barh()"
   ]
  },
  {
   "cell_type": "code",
   "execution_count": 11,
   "id": "38d15e94-e85d-4873-9082-0e5bb4d18474",
   "metadata": {},
   "outputs": [
    {
     "data": {
      "text/html": [
       "<div>\n",
       "<style scoped>\n",
       "    .dataframe tbody tr th:only-of-type {\n",
       "        vertical-align: middle;\n",
       "    }\n",
       "\n",
       "    .dataframe tbody tr th {\n",
       "        vertical-align: top;\n",
       "    }\n",
       "\n",
       "    .dataframe thead th {\n",
       "        text-align: right;\n",
       "    }\n",
       "</style>\n",
       "<table border=\"1\" class=\"dataframe\">\n",
       "  <thead>\n",
       "    <tr style=\"text-align: right;\">\n",
       "      <th></th>\n",
       "      <th>PERC_VAC</th>\n",
       "    </tr>\n",
       "    <tr>\n",
       "      <th>VACCINE_GROUP</th>\n",
       "      <th></th>\n",
       "    </tr>\n",
       "  </thead>\n",
       "  <tbody>\n",
       "    <tr>\n",
       "      <th>Polio</th>\n",
       "      <td>72.803571</td>\n",
       "    </tr>\n",
       "    <tr>\n",
       "      <th>MMR</th>\n",
       "      <td>72.053571</td>\n",
       "    </tr>\n",
       "    <tr>\n",
       "      <th>HepB</th>\n",
       "      <td>71.419643</td>\n",
       "    </tr>\n",
       "    <tr>\n",
       "      <th>Varicella</th>\n",
       "      <td>71.410714</td>\n",
       "    </tr>\n",
       "    <tr>\n",
       "      <th>DTaP</th>\n",
       "      <td>62.294643</td>\n",
       "    </tr>\n",
       "    <tr>\n",
       "      <th>Hib</th>\n",
       "      <td>61.464286</td>\n",
       "    </tr>\n",
       "    <tr>\n",
       "      <th>PCV</th>\n",
       "      <td>58.660714</td>\n",
       "    </tr>\n",
       "    <tr>\n",
       "      <th>HPV</th>\n",
       "      <td>58.009050</td>\n",
       "    </tr>\n",
       "    <tr>\n",
       "      <th>4313314</th>\n",
       "      <td>51.901786</td>\n",
       "    </tr>\n",
       "    <tr>\n",
       "      <th>Flu</th>\n",
       "      <td>42.288690</td>\n",
       "    </tr>\n",
       "  </tbody>\n",
       "</table>\n",
       "</div>"
      ],
      "text/plain": [
       "                PERC_VAC\n",
       "VACCINE_GROUP           \n",
       "Polio          72.803571\n",
       "MMR            72.053571\n",
       "HepB           71.419643\n",
       "Varicella      71.410714\n",
       "DTaP           62.294643\n",
       "Hib            61.464286\n",
       "PCV            58.660714\n",
       "HPV            58.009050\n",
       "4313314        51.901786\n",
       "Flu            42.288690"
      ]
     },
     "execution_count": 11,
     "metadata": {},
     "output_type": "execute_result"
    }
   ],
   "source": [
    "df.groupby('VACCINE_GROUP')['PERC_VAC'].mean().sort_values(ascending=False).to_frame()"
   ]
  },
  {
   "cell_type": "code",
   "execution_count": 12,
   "id": "b8d9e703-e5ab-4243-8314-d90297110b4d",
   "metadata": {},
   "outputs": [
    {
     "data": {
      "text/plain": [
       "<Axes: ylabel='VACCINE_GROUP'>"
      ]
     },
     "execution_count": 12,
     "metadata": {},
     "output_type": "execute_result"
    },
    {
     "data": {
      "image/png": "[encoded data removed]",
      "text/plain": [
       "<Figure size 640x480 with 1 Axes>"
      ]
     },
     "metadata": {},
     "output_type": "display_data"
    }
   ],
   "source": [
    "df.groupby('VACCINE_GROUP')['PERC_VAC'].mean().sort_values(ascending=True).plot.barh()"
   ]
  },
  {
   "cell_type": "code",
   "execution_count": 13,
   "id": "fd414800-1ccd-4ac8-82b8-9b126c7d15fb",
   "metadata": {},
   "outputs": [
    {
     "data": {
      "text/html": [
       "<div>\n",
       "<style scoped>\n",
       "    .dataframe tbody tr th:only-of-type {\n",
       "        vertical-align: middle;\n",
       "    }\n",
       "\n",
       "    .dataframe tbody tr th {\n",
       "        vertical-align: top;\n",
       "    }\n",
       "\n",
       "    .dataframe thead th {\n",
       "        text-align: right;\n",
       "    }\n",
       "</style>\n",
       "<table border=\"1\" class=\"dataframe\">\n",
       "  <thead>\n",
       "    <tr style=\"text-align: right;\">\n",
       "      <th></th>\n",
       "      <th>PERC_VAC</th>\n",
       "    </tr>\n",
       "    <tr>\n",
       "      <th>RACE_ETHNICITY</th>\n",
       "      <th></th>\n",
       "    </tr>\n",
       "  </thead>\n",
       "  <tbody>\n",
       "    <tr>\n",
       "      <th>Asian, non-Hispanic</th>\n",
       "      <td>98.5625</td>\n",
       "    </tr>\n",
       "    <tr>\n",
       "      <th>Hispanic/Latino</th>\n",
       "      <td>86.9375</td>\n",
       "    </tr>\n",
       "    <tr>\n",
       "      <th>Black, non-Hispanic</th>\n",
       "      <td>85.1875</td>\n",
       "    </tr>\n",
       "    <tr>\n",
       "      <th>White, non-Hispanic</th>\n",
       "      <td>82.0625</td>\n",
       "    </tr>\n",
       "    <tr>\n",
       "      <th>Native Hawaiian/PI, non-Hispanic</th>\n",
       "      <td>82.0000</td>\n",
       "    </tr>\n",
       "    <tr>\n",
       "      <th>American Indian, non-Hispanic</th>\n",
       "      <td>54.7500</td>\n",
       "    </tr>\n",
       "    <tr>\n",
       "      <th>Two or more races, non-Hispanic</th>\n",
       "      <td>20.1250</td>\n",
       "    </tr>\n",
       "  </tbody>\n",
       "</table>\n",
       "</div>"
      ],
      "text/plain": [
       "                                  PERC_VAC\n",
       "RACE_ETHNICITY                            \n",
       "Asian, non-Hispanic                98.5625\n",
       "Hispanic/Latino                    86.9375\n",
       "Black, non-Hispanic                85.1875\n",
       "White, non-Hispanic                82.0625\n",
       "Native Hawaiian/PI, non-Hispanic   82.0000\n",
       "American Indian, non-Hispanic      54.7500\n",
       "Two or more races, non-Hispanic    20.1250"
      ]
     },
     "execution_count": 13,
     "metadata": {},
     "output_type": "execute_result"
    }
   ],
   "source": [
    "polio = df[df['VACCINE_GROUP'] == 'Polio']\n",
    "polio.groupby('RACE_ETHNICITY')['PERC_VAC'].mean().sort_values(ascending=False).to_frame()"
   ]
  },
  {
   "cell_type": "code",
   "execution_count": 14,
   "id": "f94fb9ee-4b60-4688-8e39-50c8b43dc33b",
   "metadata": {},
   "outputs": [
    {
     "data": {
      "text/html": [
       "<div>\n",
       "<style scoped>\n",
       "    .dataframe tbody tr th:only-of-type {\n",
       "        vertical-align: middle;\n",
       "    }\n",
       "\n",
       "    .dataframe tbody tr th {\n",
       "        vertical-align: top;\n",
       "    }\n",
       "\n",
       "    .dataframe thead th {\n",
       "        text-align: right;\n",
       "    }\n",
       "</style>\n",
       "<table border=\"1\" class=\"dataframe\">\n",
       "  <thead>\n",
       "    <tr style=\"text-align: right;\">\n",
       "      <th></th>\n",
       "      <th>PERC_VAC</th>\n",
       "    </tr>\n",
       "    <tr>\n",
       "      <th>RACE_ETHNICITY</th>\n",
       "      <th></th>\n",
       "    </tr>\n",
       "  </thead>\n",
       "  <tbody>\n",
       "    <tr>\n",
       "      <th>Native Hawaiian/PI, non-Hispanic</th>\n",
       "      <td>72.625000</td>\n",
       "    </tr>\n",
       "    <tr>\n",
       "      <th>Asian, non-Hispanic</th>\n",
       "      <td>67.520833</td>\n",
       "    </tr>\n",
       "    <tr>\n",
       "      <th>Hispanic/Latino</th>\n",
       "      <td>41.958333</td>\n",
       "    </tr>\n",
       "    <tr>\n",
       "      <th>American Indian, non-Hispanic</th>\n",
       "      <td>41.625000</td>\n",
       "    </tr>\n",
       "    <tr>\n",
       "      <th>White, non-Hispanic</th>\n",
       "      <td>34.229167</td>\n",
       "    </tr>\n",
       "    <tr>\n",
       "      <th>Black, non-Hispanic</th>\n",
       "      <td>31.645833</td>\n",
       "    </tr>\n",
       "    <tr>\n",
       "      <th>Two or more races, non-Hispanic</th>\n",
       "      <td>6.416667</td>\n",
       "    </tr>\n",
       "  </tbody>\n",
       "</table>\n",
       "</div>"
      ],
      "text/plain": [
       "                                   PERC_VAC\n",
       "RACE_ETHNICITY                             \n",
       "Native Hawaiian/PI, non-Hispanic  72.625000\n",
       "Asian, non-Hispanic               67.520833\n",
       "Hispanic/Latino                   41.958333\n",
       "American Indian, non-Hispanic     41.625000\n",
       "White, non-Hispanic               34.229167\n",
       "Black, non-Hispanic               31.645833\n",
       "Two or more races, non-Hispanic    6.416667"
      ]
     },
     "execution_count": 14,
     "metadata": {},
     "output_type": "execute_result"
    }
   ],
   "source": [
    "flu = df[df['VACCINE_GROUP'] == 'Flu']\n",
    "flu.groupby('RACE_ETHNICITY')['PERC_VAC'].mean().sort_values(ascending=False).to_frame()"
   ]
  }
 ],
 "metadata": {
  "kernelspec": {
   "display_name": "Python 3 (ipykernel)",
   "language": "python",
   "name": "python3"
  },
  "language_info": {
   "codemirror_mode": {
    "name": "ipython",
    "version": 3
   },
   "file_extension": ".py",
   "mimetype": "text/x-python",
   "name": "python",
   "nbconvert_exporter": "python",
   "pygments_lexer": "ipython3",
   "version": "3.12.0"
  }
 },
 "nbformat": 4,
 "nbformat_minor": 5
}
